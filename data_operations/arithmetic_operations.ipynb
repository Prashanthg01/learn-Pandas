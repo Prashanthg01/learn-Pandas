{
 "cells": [
  {
   "cell_type": "code",
   "execution_count": 1,
   "metadata": {},
   "outputs": [],
   "source": [
    "import pandas as pd"
   ]
  },
  {
   "cell_type": "code",
   "execution_count": 2,
   "metadata": {},
   "outputs": [
    {
     "name": "stdout",
     "output_type": "stream",
     "text": [
      "Addition:\n",
      "a    11.0\n",
      "b    22.0\n",
      "c     NaN\n",
      "d     NaN\n",
      "e     NaN\n",
      "f     NaN\n",
      "dtype: float64\n",
      "\n",
      "Subtraction:\n",
      "a    -9.0\n",
      "b   -18.0\n",
      "c     NaN\n",
      "d     NaN\n",
      "e     NaN\n",
      "f     NaN\n",
      "dtype: float64\n",
      "\n",
      "Multiplication:\n",
      "a    10.0\n",
      "b    40.0\n",
      "c     NaN\n",
      "d     NaN\n",
      "e     NaN\n",
      "f     NaN\n",
      "dtype: float64\n",
      "\n",
      "Division:\n",
      "a    0.1\n",
      "b    0.1\n",
      "c    NaN\n",
      "d    NaN\n",
      "e    NaN\n",
      "f    NaN\n",
      "dtype: float64\n"
     ]
    }
   ],
   "source": [
    "# Creating two Series objects\n",
    "s1 = pd.Series([1, 2, 3, 4], index=['a', 'b', 'c', 'd'])\n",
    "s2 = pd.Series([10, 20, 30, 40], index=['a', 'b', 'e', 'f'])\n",
    "\n",
    "# Adding two Series\n",
    "result_add = s1 + s2\n",
    "print(\"Addition:\")\n",
    "print(result_add)\n",
    "\n",
    "# Subtracting two Series\n",
    "result_subtract = s1 - s2\n",
    "print(\"\\nSubtraction:\")\n",
    "print(result_subtract)\n",
    "\n",
    "# Multiplying two Series\n",
    "result_multiply = s1 * s2\n",
    "print(\"\\nMultiplication:\")\n",
    "print(result_multiply)\n",
    "\n",
    "# Dividing two Series\n",
    "result_divide = s1 / s2\n",
    "print(\"\\nDivision:\")\n",
    "print(result_divide)\n"
   ]
  },
  {
   "cell_type": "code",
   "execution_count": 3,
   "metadata": {},
   "outputs": [
    {
     "name": "stdout",
     "output_type": "stream",
     "text": [
      "Addition:\n",
      "    A   B\n",
      "0  11  44\n",
      "1  22  55\n",
      "2  33  66\n",
      "\n",
      "Subtraction:\n",
      "    A   B\n",
      "0  -9 -36\n",
      "1 -18 -45\n",
      "2 -27 -54\n",
      "\n",
      "Multiplication:\n",
      "    A    B\n",
      "0  10  160\n",
      "1  40  250\n",
      "2  90  360\n",
      "\n",
      "Division:\n",
      "     A    B\n",
      "0  0.1  0.1\n",
      "1  0.1  0.1\n",
      "2  0.1  0.1\n"
     ]
    }
   ],
   "source": [
    "# Creating two DataFrames\n",
    "df1 = pd.DataFrame({'A': [1, 2, 3], 'B': [4, 5, 6]})\n",
    "df2 = pd.DataFrame({'A': [10, 20, 30], 'B': [40, 50, 60]})\n",
    "\n",
    "# Adding two DataFrames\n",
    "result_add = df1 + df2\n",
    "print(\"Addition:\")\n",
    "print(result_add)\n",
    "\n",
    "# Subtracting two DataFrames\n",
    "result_subtract = df1 - df2\n",
    "print(\"\\nSubtraction:\")\n",
    "print(result_subtract)\n",
    "\n",
    "# Multiplying two DataFrames\n",
    "result_multiply = df1 * df2\n",
    "print(\"\\nMultiplication:\")\n",
    "print(result_multiply)\n",
    "\n",
    "# Dividing two DataFrames\n",
    "result_divide = df1 / df2\n",
    "print(\"\\nDivision:\")\n",
    "print(result_divide)\n"
   ]
  }
 ],
 "metadata": {
  "kernelspec": {
   "display_name": "Python 3",
   "language": "python",
   "name": "python3"
  },
  "language_info": {
   "codemirror_mode": {
    "name": "ipython",
    "version": 3
   },
   "file_extension": ".py",
   "mimetype": "text/x-python",
   "name": "python",
   "nbconvert_exporter": "python",
   "pygments_lexer": "ipython3",
   "version": "3.10.11"
  }
 },
 "nbformat": 4,
 "nbformat_minor": 2
}
